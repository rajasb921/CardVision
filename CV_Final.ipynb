{
  "nbformat": 4,
  "nbformat_minor": 0,
  "metadata": {
    "colab": {
      "provenance": [],
      "gpuType": "T4"
    },
    "kernelspec": {
      "name": "python3",
      "display_name": "Python 3"
    },
    "language_info": {
      "name": "python"
    },
    "accelerator": "GPU"
  },
  "cells": [
    {
      "cell_type": "code",
      "execution_count": null,
      "metadata": {
        "colab": {
          "base_uri": "https://localhost:8080/"
        },
        "id": "bq4ZcdZn2FLN",
        "outputId": "5b51db09-c660-4af2-ea68-ef14ff294888"
      },
      "outputs": [
        {
          "output_type": "stream",
          "name": "stdout",
          "text": [
            "Mounted at /content/drive\n"
          ]
        }
      ],
      "source": [
        "xcfrom google.colab import drive\n",
        "drive.mount('/content/drive')"
      ]
    },
    {
      "cell_type": "code",
      "source": [
        "import os\n",
        "import cv2\n",
        "import numpy as np\n",
        "\n",
        "# Card denominations and suits\n",
        "denominations = ['A', '2', '3', '4', '5', '6', '7', '8', '9', 'T', 'J', 'Q', 'K']\n",
        "suits = ['C', 'H', 'S', 'D']\n",
        "\n",
        "# Generate labelMap\n",
        "labelMap = {f\"{denom}{suit}\": idx for idx, (denom, suit) in enumerate((d, s) for d in denominations for s in suits)}\n",
        "\n",
        "import os\n",
        "import cv2\n",
        "import numpy as np\n",
        "import random\n",
        "\n",
        "def augment_image(img):\n",
        "    \"\"\"Apply random augmentations to an image.\"\"\"\n",
        "    # Random brightness adjustment\n",
        "    factor = random.uniform(0.8, 1.2)\n",
        "    img = np.clip(img * factor, 0, 1)\n",
        "\n",
        "    return img\n",
        "\n",
        "def load_and_augment_card_images(img_dir, target_size=(128, 128), augment_per_image=5):\n",
        "    \"\"\"\n",
        "    Load card images with augmentation to increase dataset size.\n",
        "\n",
        "    Args:\n",
        "        img_dir (str): Path to the directory containing card images\n",
        "        target_size (tuple): Desired image resolution (width, height)\n",
        "        augment_per_image (int): Number of augmented versions to generate per image\n",
        "\n",
        "    Returns:\n",
        "        tuple: (images, labels)\n",
        "    \"\"\"\n",
        "    images = []\n",
        "    labels = []\n",
        "    i = 0\n",
        "\n",
        "    for filename in os.listdir(img_dir):\n",
        "        if filename.endswith('.jpg'):\n",
        "            # Extract label from first two characters\n",
        "            label_name = filename[:2]\n",
        "\n",
        "            if label_name not in labelMap:\n",
        "                continue\n",
        "\n",
        "            label = labelMap[label_name]\n",
        "\n",
        "            # Read image\n",
        "            img_path = os.path.join(img_dir, filename)\n",
        "            img = cv2.imread(img_path)\n",
        "\n",
        "            # Resize to smaller dimensions\n",
        "            img = cv2.resize(img, target_size, interpolation=cv2.INTER_AREA)\n",
        "\n",
        "            # Normalize\n",
        "            img = img / 255.0\n",
        "\n",
        "            # Append original image\n",
        "            images.append(img)\n",
        "            labels.append(label)\n",
        "\n",
        "            # Create augmented versions\n",
        "            for _ in range(augment_per_image):\n",
        "                augmented_img = augment_image(img)\n",
        "                images.append(augmented_img)\n",
        "                labels.append(label)\n",
        "\n",
        "            i += 1\n",
        "            if i % 10 == 0:\n",
        "                print(f\"{i} images processed\")\n",
        "\n",
        "    return np.array(images), np.array(labels)\n",
        "\n",
        "# Usage\n",
        "img_dir = '/content/drive/MyDrive/CV Final Train'\n",
        "images, labels = load_and_augment_card_images(img_dir)\n",
        "\n",
        "print(f\"Total images: {len(images)}\")\n",
        "print(f\"Images shape: {images.shape}\")\n",
        "print(f\"Labels shape: {labels.shape}\")"
      ],
      "metadata": {
        "colab": {
          "base_uri": "https://localhost:8080/"
        },
        "id": "pSgwxrpW6hqM",
        "outputId": "2149b61c-4480-4d6e-cf9d-6baba8f602e3"
      },
      "execution_count": null,
      "outputs": [
        {
          "output_type": "stream",
          "name": "stdout",
          "text": [
            "10 images processed\n",
            "20 images processed\n",
            "30 images processed\n",
            "40 images processed\n",
            "50 images processed\n",
            "60 images processed\n",
            "70 images processed\n",
            "80 images processed\n",
            "90 images processed\n",
            "100 images processed\n",
            "110 images processed\n",
            "120 images processed\n",
            "130 images processed\n",
            "140 images processed\n",
            "150 images processed\n",
            "160 images processed\n",
            "170 images processed\n",
            "180 images processed\n",
            "190 images processed\n",
            "200 images processed\n",
            "210 images processed\n",
            "220 images processed\n",
            "230 images processed\n",
            "240 images processed\n",
            "250 images processed\n",
            "260 images processed\n",
            "270 images processed\n",
            "280 images processed\n",
            "290 images processed\n",
            "300 images processed\n",
            "310 images processed\n",
            "320 images processed\n",
            "330 images processed\n",
            "340 images processed\n",
            "350 images processed\n",
            "360 images processed\n",
            "370 images processed\n",
            "380 images processed\n",
            "390 images processed\n",
            "400 images processed\n",
            "410 images processed\n",
            "Total images: 2496\n",
            "Images shape: (2496, 128, 128, 3)\n",
            "Labels shape: (2496,)\n"
          ]
        }
      ]
    },
    {
      "cell_type": "code",
      "source": [
        "import numpy as np\n",
        "\n",
        "def custom_train_val_split(images, labels):\n",
        "    \"\"\"\n",
        "    Split images and labels into train and validation sets\n",
        "    Splits every 48 images: 40 for train, 8 for validation\n",
        "\n",
        "    Args:\n",
        "        images (numpy.ndarray): Input images\n",
        "        labels (numpy.ndarray): Corresponding labels\n",
        "\n",
        "    Returns:\n",
        "        tuple: (X_train, y_train, X_val, y_val)\n",
        "    \"\"\"\n",
        "    # Ensure divisible by 8\n",
        "    num_images = len(images)\n",
        "    num_groups = num_images // 48\n",
        "\n",
        "    X_train = []\n",
        "    y_train = []\n",
        "    X_val = []\n",
        "    y_val = []\n",
        "\n",
        "    for i in range(num_groups):\n",
        "        group_start = i * 48\n",
        "        group_end = group_start + 48\n",
        "\n",
        "        # First 6 images in group go to training\n",
        "        X_train.extend(images[group_start:group_start+40])\n",
        "        y_train.extend(labels[group_start:group_start+40])\n",
        "\n",
        "        # Last 2 images in group go to validation\n",
        "        X_val.extend(images[group_start+40:group_end])\n",
        "        y_val.extend(labels[group_start+40:group_end])\n",
        "\n",
        "    # Convert to numpy arrays\n",
        "    X_train = np.array(X_train)\n",
        "    y_train = np.array(y_train)\n",
        "    X_val = np.array(X_val)\n",
        "    y_val = np.array(y_val)\n",
        "\n",
        "    return X_train, y_train, X_val, y_val\n",
        "\n",
        "# Usage\n",
        "X_train, y_train, X_val, y_val = custom_train_val_split(images, labels)\n",
        "\n",
        "print(\"Training set shape:\", X_train.shape)\n",
        "print(\"Training labels shape:\", y_train.shape)\n",
        "print(\"Validation set shape:\", X_val.shape)\n",
        "print(\"Validation labels shape:\", y_val.shape)"
      ],
      "metadata": {
        "colab": {
          "base_uri": "https://localhost:8080/"
        },
        "id": "ZEQW-rCg-Yd2",
        "outputId": "892d53bd-f706-47be-fe44-6f15e05bad5c"
      },
      "execution_count": null,
      "outputs": [
        {
          "output_type": "stream",
          "name": "stdout",
          "text": [
            "Training set shape: (2080, 128, 128, 3)\n",
            "Training labels shape: (2080,)\n",
            "Validation set shape: (416, 128, 128, 3)\n",
            "Validation labels shape: (416,)\n"
          ]
        }
      ]
    },
    {
      "cell_type": "code",
      "source": [
        "from tensorflow.keras.preprocessing.image import ImageDataGenerator\n",
        "\n",
        "datagen = ImageDataGenerator(\n",
        "    width_shift_range=0.2,\n",
        "    height_shift_range=0.2,\n",
        "    shear_range=0.2,\n",
        "    zoom_range=0.2,\n",
        ")\n",
        "\n",
        "# Fit generator to your training data\n",
        "datagen.fit(X_train)"
      ],
      "metadata": {
        "id": "VlVABzuW89-y"
      },
      "execution_count": null,
      "outputs": []
    },
    {
      "cell_type": "code",
      "source": [
        "from tensorflow.keras.applications import MobileNetV2\n",
        "\n",
        "base_model = MobileNetV2(weights='imagenet', include_top=False, input_shape=(128, 128, 3))\n",
        "base_model.trainable = False"
      ],
      "metadata": {
        "id": "2Ufps5q0Vhcy",
        "colab": {
          "base_uri": "https://localhost:8080/"
        },
        "outputId": "d5cc2cb8-6474-4f35-838f-e420508d52ce"
      },
      "execution_count": null,
      "outputs": [
        {
          "output_type": "stream",
          "name": "stdout",
          "text": [
            "Downloading data from https://storage.googleapis.com/tensorflow/keras-applications/mobilenet_v2/mobilenet_v2_weights_tf_dim_ordering_tf_kernels_1.0_128_no_top.h5\n",
            "\u001b[1m9406464/9406464\u001b[0m \u001b[32m━━━━━━━━━━━━━━━━━━━━\u001b[0m\u001b[37m\u001b[0m \u001b[1m2s\u001b[0m 0us/step\n"
          ]
        }
      ]
    },
    {
      "cell_type": "code",
      "source": [
        "from tensorflow.keras import layers\n",
        "import tensorflow as tf\n",
        "\n",
        "x = base_model.output\n",
        "x = layers.GlobalAveragePooling2D()(x)\n",
        "x = layers.Dense(128, activation='relu')(x)\n",
        "x = layers.Dropout(0.5)(x)\n",
        "output = layers.Dense(52, activation='softmax')(x)\n",
        "\n",
        "model = tf.keras.Model(inputs=base_model.input, outputs=output)"
      ],
      "metadata": {
        "id": "ZWkgPhjRVkXp"
      },
      "execution_count": null,
      "outputs": []
    },
    {
      "cell_type": "code",
      "source": [
        "model.compile(\n",
        "    optimizer='adam',\n",
        "    loss='sparse_categorical_crossentropy',\n",
        "    metrics=['accuracy']\n",
        ")"
      ],
      "metadata": {
        "id": "Qt9fIKlgVocC"
      },
      "execution_count": null,
      "outputs": []
    },
    {
      "cell_type": "code",
      "source": [
        "# Train the model\n",
        "from tensorflow.keras.callbacks import EarlyStopping\n",
        "import matplotlib.pyplot as plt\n",
        "from tensorflow.keras.callbacks import ModelCheckpoint, EarlyStopping, ReduceLROnPlateau\n",
        "\n",
        "# Define the file path for saving the model\n",
        "model_save_path_2 = 'mobilenet_card_classifier_model.keras'\n",
        "\n",
        "# Add the ModelCheckpoint callback\n",
        "model_checkpoint_2 = ModelCheckpoint(\n",
        "    filepath=model_save_path_2,  # File path where the model will be saved\n",
        "    monitor='val_accuracy',   # Metric to monitor\n",
        "    save_best_only=True,      # Save only the best model based on validation accuracy\n",
        "    mode='max'               # 'max' because we're looking for higher accuracy\n",
        ")\n",
        "\n",
        "early_stopping = EarlyStopping(\n",
        "    monitor='val_loss',\n",
        "    patience=5,  # Number of epochs with no improvement before stopping\n",
        "    restore_best_weights=True  # Restore the best weights after stopping\n",
        ")\n",
        "\n",
        "history = model.fit(\n",
        "    X_train, y_train,\n",
        "    epochs=50,\n",
        "    batch_size=64,\n",
        "    validation_data=(X_val, y_val),\n",
        "    callbacks=[model_checkpoint_2, early_stopping]\n",
        ")\n",
        "\n",
        "# Plot training & validation loss values\n",
        "print(f\"Model saved to: {model_save_path_2}\")\n",
        "plt.figure(figsize=(10, 5))\n",
        "plt.plot(history.history['loss'], label='Train Loss')\n",
        "plt.plot(history.history['val_loss'], label='Validation Loss')\n",
        "plt.title('Model Loss')\n",
        "plt.ylabel('Loss')\n",
        "plt.xlabel('Epoch')\n",
        "plt.legend(['Train', 'Validation'], loc='upper right')\n",
        "plt.show()\n",
        "\n",
        "\n",
        "plt.figure(figsize=(10, 5))\n",
        "plt.plot(history.history['accuracy'], label='Train Accuracy')\n",
        "plt.plot(history.history['val_accuracy'], label='Validation Accuracy')\n",
        "plt.title('Model Accuracy')\n",
        "plt.ylabel('Accuracy')\n",
        "plt.xlabel('Epoch')\n",
        "plt.legend(['Train', 'Validation'], loc='lower right')\n",
        "plt.show()"
      ],
      "metadata": {
        "colab": {
          "base_uri": "https://localhost:8080/",
          "height": 1000
        },
        "id": "8sw8QTogVshY",
        "outputId": "2df66fbd-a210-43f4-a749-61205d277e8d"
      },
      "execution_count": null,
      "outputs": [
        {
          "output_type": "stream",
          "name": "stdout",
          "text": [
            "Epoch 1/50\n",
            "\u001b[1m33/33\u001b[0m \u001b[32m━━━━━━━━━━━━━━━━━━━━\u001b[0m\u001b[37m\u001b[0m \u001b[1m13s\u001b[0m 417ms/step - accuracy: 0.0556 - loss: 3.9514 - val_accuracy: 0.2644 - val_loss: 3.2336\n",
            "Epoch 2/50\n",
            "\u001b[1m33/33\u001b[0m \u001b[32m━━━━━━━━━━━━━━━━━━━━\u001b[0m\u001b[37m\u001b[0m \u001b[1m1s\u001b[0m 43ms/step - accuracy: 0.2071 - loss: 3.0529 - val_accuracy: 0.4111 - val_loss: 2.4974\n",
            "Epoch 3/50\n",
            "\u001b[1m33/33\u001b[0m \u001b[32m━━━━━━━━━━━━━━━━━━━━\u001b[0m\u001b[37m\u001b[0m \u001b[1m1s\u001b[0m 41ms/step - accuracy: 0.3510 - loss: 2.3827 - val_accuracy: 0.6466 - val_loss: 1.9070\n",
            "Epoch 4/50\n",
            "\u001b[1m33/33\u001b[0m \u001b[32m━━━━━━━━━━━━━━━━━━━━\u001b[0m\u001b[37m\u001b[0m \u001b[1m2s\u001b[0m 48ms/step - accuracy: 0.4687 - loss: 1.8931 - val_accuracy: 0.7043 - val_loss: 1.5278\n",
            "Epoch 5/50\n",
            "\u001b[1m33/33\u001b[0m \u001b[32m━━━━━━━━━━━━━━━━━━━━\u001b[0m\u001b[37m\u001b[0m \u001b[1m2s\u001b[0m 57ms/step - accuracy: 0.5735 - loss: 1.4959 - val_accuracy: 0.7260 - val_loss: 1.2756\n",
            "Epoch 6/50\n",
            "\u001b[1m33/33\u001b[0m \u001b[32m━━━━━━━━━━━━━━━━━━━━\u001b[0m\u001b[37m\u001b[0m \u001b[1m2s\u001b[0m 40ms/step - accuracy: 0.6617 - loss: 1.2143 - val_accuracy: 0.7740 - val_loss: 1.0493\n",
            "Epoch 7/50\n",
            "\u001b[1m33/33\u001b[0m \u001b[32m━━━━━━━━━━━━━━━━━━━━\u001b[0m\u001b[37m\u001b[0m \u001b[1m3s\u001b[0m 40ms/step - accuracy: 0.7370 - loss: 1.0189 - val_accuracy: 0.8053 - val_loss: 0.9045\n",
            "Epoch 8/50\n",
            "\u001b[1m33/33\u001b[0m \u001b[32m━━━━━━━━━━━━━━━━━━━━\u001b[0m\u001b[37m\u001b[0m \u001b[1m2s\u001b[0m 32ms/step - accuracy: 0.7876 - loss: 0.8622 - val_accuracy: 0.7788 - val_loss: 0.8177\n",
            "Epoch 9/50\n",
            "\u001b[1m33/33\u001b[0m \u001b[32m━━━━━━━━━━━━━━━━━━━━\u001b[0m\u001b[37m\u001b[0m \u001b[1m1s\u001b[0m 39ms/step - accuracy: 0.8234 - loss: 0.7058 - val_accuracy: 0.8438 - val_loss: 0.7212\n",
            "Epoch 10/50\n",
            "\u001b[1m33/33\u001b[0m \u001b[32m━━━━━━━━━━━━━━━━━━━━\u001b[0m\u001b[37m\u001b[0m \u001b[1m1s\u001b[0m 30ms/step - accuracy: 0.8397 - loss: 0.6558 - val_accuracy: 0.8341 - val_loss: 0.6600\n",
            "Epoch 11/50\n",
            "\u001b[1m33/33\u001b[0m \u001b[32m━━━━━━━━━━━━━━━━━━━━\u001b[0m\u001b[37m\u001b[0m \u001b[1m1s\u001b[0m 31ms/step - accuracy: 0.8521 - loss: 0.5760 - val_accuracy: 0.8125 - val_loss: 0.6185\n",
            "Epoch 12/50\n",
            "\u001b[1m33/33\u001b[0m \u001b[32m━━━━━━━━━━━━━━━━━━━━\u001b[0m\u001b[37m\u001b[0m \u001b[1m2s\u001b[0m 40ms/step - accuracy: 0.8754 - loss: 0.5003 - val_accuracy: 0.8365 - val_loss: 0.5721\n",
            "Epoch 13/50\n",
            "\u001b[1m33/33\u001b[0m \u001b[32m━━━━━━━━━━━━━━━━━━━━\u001b[0m\u001b[37m\u001b[0m \u001b[1m1s\u001b[0m 41ms/step - accuracy: 0.8915 - loss: 0.4565 - val_accuracy: 0.8438 - val_loss: 0.5328\n",
            "Epoch 14/50\n",
            "\u001b[1m33/33\u001b[0m \u001b[32m━━━━━━━━━━━━━━━━━━━━\u001b[0m\u001b[37m\u001b[0m \u001b[1m2s\u001b[0m 53ms/step - accuracy: 0.9014 - loss: 0.3883 - val_accuracy: 0.8486 - val_loss: 0.5161\n",
            "Epoch 15/50\n",
            "\u001b[1m33/33\u001b[0m \u001b[32m━━━━━━━━━━━━━━━━━━━━\u001b[0m\u001b[37m\u001b[0m \u001b[1m2s\u001b[0m 42ms/step - accuracy: 0.9033 - loss: 0.3989 - val_accuracy: 0.8702 - val_loss: 0.4472\n",
            "Epoch 16/50\n",
            "\u001b[1m33/33\u001b[0m \u001b[32m━━━━━━━━━━━━━━━━━━━━\u001b[0m\u001b[37m\u001b[0m \u001b[1m1s\u001b[0m 27ms/step - accuracy: 0.9180 - loss: 0.3313 - val_accuracy: 0.8558 - val_loss: 0.4516\n",
            "Epoch 17/50\n",
            "\u001b[1m33/33\u001b[0m \u001b[32m━━━━━━━━━━━━━━━━━━━━\u001b[0m\u001b[37m\u001b[0m \u001b[1m1s\u001b[0m 28ms/step - accuracy: 0.9263 - loss: 0.3101 - val_accuracy: 0.8606 - val_loss: 0.4611\n",
            "Epoch 18/50\n",
            "\u001b[1m33/33\u001b[0m \u001b[32m━━━━━━━━━━━━━━━━━━━━\u001b[0m\u001b[37m\u001b[0m \u001b[1m1s\u001b[0m 27ms/step - accuracy: 0.9266 - loss: 0.3056 - val_accuracy: 0.8341 - val_loss: 0.4493\n",
            "Epoch 19/50\n",
            "\u001b[1m33/33\u001b[0m \u001b[32m━━━━━━━━━━━━━━━━━━━━\u001b[0m\u001b[37m\u001b[0m \u001b[1m1s\u001b[0m 40ms/step - accuracy: 0.9372 - loss: 0.2742 - val_accuracy: 0.8726 - val_loss: 0.4199\n",
            "Epoch 20/50\n",
            "\u001b[1m33/33\u001b[0m \u001b[32m━━━━━━━━━━━━━━━━━━━━\u001b[0m\u001b[37m\u001b[0m \u001b[1m1s\u001b[0m 27ms/step - accuracy: 0.9473 - loss: 0.2369 - val_accuracy: 0.8702 - val_loss: 0.4322\n",
            "Epoch 21/50\n",
            "\u001b[1m33/33\u001b[0m \u001b[32m━━━━━━━━━━━━━━━━━━━━\u001b[0m\u001b[37m\u001b[0m \u001b[1m2s\u001b[0m 43ms/step - accuracy: 0.9439 - loss: 0.2489 - val_accuracy: 0.8846 - val_loss: 0.3928\n",
            "Epoch 22/50\n",
            "\u001b[1m33/33\u001b[0m \u001b[32m━━━━━━━━━━━━━━━━━━━━\u001b[0m\u001b[37m\u001b[0m \u001b[1m3s\u001b[0m 43ms/step - accuracy: 0.9535 - loss: 0.2302 - val_accuracy: 0.8702 - val_loss: 0.3918\n",
            "Epoch 23/50\n",
            "\u001b[1m33/33\u001b[0m \u001b[32m━━━━━━━━━━━━━━━━━━━━\u001b[0m\u001b[37m\u001b[0m \u001b[1m1s\u001b[0m 32ms/step - accuracy: 0.9516 - loss: 0.1941 - val_accuracy: 0.8774 - val_loss: 0.3807\n",
            "Epoch 24/50\n",
            "\u001b[1m33/33\u001b[0m \u001b[32m━━━━━━━━━━━━━━━━━━━━\u001b[0m\u001b[37m\u001b[0m \u001b[1m1s\u001b[0m 45ms/step - accuracy: 0.9528 - loss: 0.2050 - val_accuracy: 0.8942 - val_loss: 0.3583\n",
            "Epoch 25/50\n",
            "\u001b[1m33/33\u001b[0m \u001b[32m━━━━━━━━━━━━━━━━━━━━\u001b[0m\u001b[37m\u001b[0m \u001b[1m1s\u001b[0m 30ms/step - accuracy: 0.9563 - loss: 0.1800 - val_accuracy: 0.8942 - val_loss: 0.3576\n",
            "Epoch 26/50\n",
            "\u001b[1m33/33\u001b[0m \u001b[32m━━━━━━━━━━━━━━━━━━━━\u001b[0m\u001b[37m\u001b[0m \u001b[1m1s\u001b[0m 28ms/step - accuracy: 0.9553 - loss: 0.1816 - val_accuracy: 0.8774 - val_loss: 0.3846\n",
            "Epoch 27/50\n",
            "\u001b[1m33/33\u001b[0m \u001b[32m━━━━━━━━━━━━━━━━━━━━\u001b[0m\u001b[37m\u001b[0m \u001b[1m1s\u001b[0m 27ms/step - accuracy: 0.9654 - loss: 0.1637 - val_accuracy: 0.8750 - val_loss: 0.3639\n",
            "Epoch 28/50\n",
            "\u001b[1m33/33\u001b[0m \u001b[32m━━━━━━━━━━━━━━━━━━━━\u001b[0m\u001b[37m\u001b[0m \u001b[1m1s\u001b[0m 30ms/step - accuracy: 0.9651 - loss: 0.1782 - val_accuracy: 0.8726 - val_loss: 0.3546\n",
            "Epoch 29/50\n",
            "\u001b[1m33/33\u001b[0m \u001b[32m━━━━━━━━━━━━━━━━━━━━\u001b[0m\u001b[37m\u001b[0m \u001b[1m2s\u001b[0m 41ms/step - accuracy: 0.9663 - loss: 0.1574 - val_accuracy: 0.8990 - val_loss: 0.3484\n",
            "Epoch 30/50\n",
            "\u001b[1m33/33\u001b[0m \u001b[32m━━━━━━━━━━━━━━━━━━━━\u001b[0m\u001b[37m\u001b[0m \u001b[1m2s\u001b[0m 33ms/step - accuracy: 0.9739 - loss: 0.1424 - val_accuracy: 0.8774 - val_loss: 0.3558\n",
            "Epoch 31/50\n",
            "\u001b[1m33/33\u001b[0m \u001b[32m━━━━━━━━━━━━━━━━━━━━\u001b[0m\u001b[37m\u001b[0m \u001b[1m1s\u001b[0m 36ms/step - accuracy: 0.9794 - loss: 0.1274 - val_accuracy: 0.8798 - val_loss: 0.3521\n",
            "Epoch 32/50\n",
            "\u001b[1m33/33\u001b[0m \u001b[32m━━━━━━━━━━━━━━━━━━━━\u001b[0m\u001b[37m\u001b[0m \u001b[1m1s\u001b[0m 37ms/step - accuracy: 0.9767 - loss: 0.1342 - val_accuracy: 0.8726 - val_loss: 0.3706\n",
            "Epoch 33/50\n",
            "\u001b[1m33/33\u001b[0m \u001b[32m━━━━━━━━━━━━━━━━━━━━\u001b[0m\u001b[37m\u001b[0m \u001b[1m1s\u001b[0m 35ms/step - accuracy: 0.9709 - loss: 0.1317 - val_accuracy: 0.8462 - val_loss: 0.3613\n",
            "Epoch 34/50\n",
            "\u001b[1m33/33\u001b[0m \u001b[32m━━━━━━━━━━━━━━━━━━━━\u001b[0m\u001b[37m\u001b[0m \u001b[1m1s\u001b[0m 29ms/step - accuracy: 0.9741 - loss: 0.1142 - val_accuracy: 0.8678 - val_loss: 0.3129\n",
            "Epoch 35/50\n",
            "\u001b[1m33/33\u001b[0m \u001b[32m━━━━━━━━━━━━━━━━━━━━\u001b[0m\u001b[37m\u001b[0m \u001b[1m1s\u001b[0m 30ms/step - accuracy: 0.9797 - loss: 0.1054 - val_accuracy: 0.8966 - val_loss: 0.3014\n",
            "Epoch 36/50\n",
            "\u001b[1m33/33\u001b[0m \u001b[32m━━━━━━━━━━━━━━━━━━━━\u001b[0m\u001b[37m\u001b[0m \u001b[1m1s\u001b[0m 28ms/step - accuracy: 0.9751 - loss: 0.1131 - val_accuracy: 0.8894 - val_loss: 0.3341\n",
            "Epoch 37/50\n",
            "\u001b[1m33/33\u001b[0m \u001b[32m━━━━━━━━━━━━━━━━━━━━\u001b[0m\u001b[37m\u001b[0m \u001b[1m1s\u001b[0m 28ms/step - accuracy: 0.9724 - loss: 0.1167 - val_accuracy: 0.8750 - val_loss: 0.3418\n",
            "Epoch 38/50\n",
            "\u001b[1m33/33\u001b[0m \u001b[32m━━━━━━━━━━━━━━━━━━━━\u001b[0m\u001b[37m\u001b[0m \u001b[1m1s\u001b[0m 28ms/step - accuracy: 0.9647 - loss: 0.1270 - val_accuracy: 0.8678 - val_loss: 0.3466\n",
            "Epoch 39/50\n",
            "\u001b[1m33/33\u001b[0m \u001b[32m━━━━━━━━━━━━━━━━━━━━\u001b[0m\u001b[37m\u001b[0m \u001b[1m1s\u001b[0m 27ms/step - accuracy: 0.9716 - loss: 0.1130 - val_accuracy: 0.8774 - val_loss: 0.3666\n",
            "Epoch 40/50\n",
            "\u001b[1m33/33\u001b[0m \u001b[32m━━━━━━━━━━━━━━━━━━━━\u001b[0m\u001b[37m\u001b[0m \u001b[1m1s\u001b[0m 28ms/step - accuracy: 0.9774 - loss: 0.1035 - val_accuracy: 0.8942 - val_loss: 0.3207\n",
            "Model saved to: mobilenet_card_classifier_model.keras\n"
          ]
        },
        {
          "output_type": "display_data",
          "data": {
            "text/plain": [
              "<Figure size 1000x500 with 1 Axes>"
            ],
            "image/png": "[encoded data removed]"
          },
          "metadata": {}
        },
        {
          "output_type": "display_data",
          "data": {
            "text/plain": [
              "<Figure size 1000x500 with 1 Axes>"
            ],
            "image/png": "[encoded data removed]"
          },
          "metadata": {}
        }
      ]
    },
    {
      "cell_type": "code",
      "source": [
        "from tensorflow.keras.models import load_model\n",
        "from sklearn.model_selection import train_test_split\n",
        "\n",
        "# Load the saved model\n",
        "saved_model = load_model(model_save_path_2)\n",
        "\n",
        "# Shuffle and split the data into 80% for testing\n",
        "X_train, X_test, y_train, y_test = train_test_split(images, labels, test_size=0.2, random_state=42)\n",
        "\n",
        "# Evaluate or use the model\n",
        "saved_model.evaluate(X_test, y_test)"
      ],
      "metadata": {
        "colab": {
          "base_uri": "https://localhost:8080/"
        },
        "id": "bZYe-8cmXpsT",
        "outputId": "c304e50d-facc-457e-ee63-6a2b03f2f9ad"
      },
      "execution_count": null,
      "outputs": [
        {
          "output_type": "stream",
          "name": "stdout",
          "text": [
            "\u001b[1m16/16\u001b[0m \u001b[32m━━━━━━━━━━━━━━━━━━━━\u001b[0m\u001b[37m\u001b[0m \u001b[1m7s\u001b[0m 220ms/step - accuracy: 0.9744 - loss: 0.1011\n"
          ]
        },
        {
          "output_type": "execute_result",
          "data": {
            "text/plain": [
              "[0.0786379873752594, 0.9800000190734863]"
            ]
          },
          "metadata": {},
          "execution_count": 11
        }
      ]
    }
  ]
}